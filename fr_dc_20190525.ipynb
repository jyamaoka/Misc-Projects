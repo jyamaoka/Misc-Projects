{
  "nbformat": 4,
  "nbformat_minor": 0,
  "metadata": {
    "colab": {
      "name": "fr_dc_20190525.ipynb",
      "version": "0.3.2",
      "provenance": [],
      "collapsed_sections": [],
      "include_colab_link": true
    },
    "kernelspec": {
      "name": "python3",
      "display_name": "Python 3"
    },
    "accelerator": "GPU"
  },
  "cells": [
    {
      "cell_type": "markdown",
      "metadata": {
        "id": "view-in-github",
        "colab_type": "text"
      },
      "source": [
        "<a href=\"https://colab.research.google.com/github/jyamaoka/Misc-Projects/blob/master/fr_dc_20190525.ipynb\" target=\"_parent\"><img src=\"https://colab.research.google.com/assets/colab-badge.svg\" alt=\"Open In Colab\"/></a>"
      ]
    },
    {
      "cell_type": "markdown",
      "metadata": {
        "id": "0bNehkvMx7D4",
        "colab_type": "text"
      },
      "source": [
        "# THE DATA\n",
        "\n",
        "\n",
        "---\n",
        "\n",
        "\n",
        "```\n",
        "Each week we send thousands of consumer complaints about financial products and services to companies for response. Data from those complaints helps us understand the financial marketplace and protect consumers.\n",
        "```\n",
        "From: https://www.consumerfinance.gov/complaint/data-use/\n",
        "\n",
        "\n"
      ]
    },
    {
      "cell_type": "markdown",
      "metadata": {
        "id": "JuxsRFLg49iO",
        "colab_type": "text"
      },
      "source": [
        "```\n",
        "\n",
        "\n",
        "```\n",
        "\n",
        "# GET DATA\n",
        "\n",
        "\n",
        "---\n",
        "\n",
        "\n",
        "Kaggle datasets can be accessed through an API with a token. "
      ]
    },
    {
      "cell_type": "code",
      "metadata": {
        "id": "Q8BwvVcm5Nn-",
        "colab_type": "code",
        "colab": {}
      },
      "source": [
        "from google.colab import files\n",
        "files.upload() # upload kaggle token json"
      ],
      "execution_count": 0,
      "outputs": []
    },
    {
      "cell_type": "code",
      "metadata": {
        "id": "7iL3RJfyOCX0",
        "colab_type": "code",
        "colab": {}
      },
      "source": [
        "#\n",
        "# install and set up kaggle api software\n",
        "!pip install -q kaggle\n",
        "!mkdir -p ~/.kaggle\n",
        "!mv kaggle.json ~/.kaggle/\n",
        "!chmod 600 /root/.kaggle/kaggle.json  # set permission"
      ],
      "execution_count": 0,
      "outputs": []
    },
    {
      "cell_type": "code",
      "metadata": {
        "id": "ngDvvGvDgr7B",
        "colab_type": "code",
        "colab": {}
      },
      "source": [
        "#\n",
        "# get the data\n",
        "!kaggle datasets download -d selener/consumer-complaint-database -p /content\n",
        "!unzip consumer-complaint-database.zip "
      ],
      "execution_count": 0,
      "outputs": []
    },
    {
      "cell_type": "markdown",
      "metadata": {
        "id": "bJBeFd3AkEp4",
        "colab_type": "text"
      },
      "source": [
        "```\n",
        "\n",
        "\n",
        "\n",
        "```\n",
        "\n",
        "# Load the Data\n",
        "\n",
        "\n",
        "---\n",
        "\n"
      ]
    },
    {
      "cell_type": "code",
      "metadata": {
        "id": "eIuCcJDXkj2z",
        "colab_type": "code",
        "colab": {}
      },
      "source": [
        "import pandas as pd\n",
        "import numpy as np"
      ],
      "execution_count": 0,
      "outputs": []
    },
    {
      "cell_type": "code",
      "metadata": {
        "id": "LBe9KDk5X_WY",
        "colab_type": "code",
        "colab": {}
      },
      "source": [
        "df = pd.read_csv('rows.csv',low_memory=False)"
      ],
      "execution_count": 0,
      "outputs": []
    },
    {
      "cell_type": "code",
      "metadata": {
        "id": "QnM8ltgFkj_i",
        "colab_type": "code",
        "colab": {
          "base_uri": "https://localhost:8080/",
          "height": 607
        },
        "outputId": "ab1cc8c1-5e58-4940-cadb-f1b1408e6f64"
      },
      "source": [
        "df.head(2).T"
      ],
      "execution_count": 8,
      "outputs": [
        {
          "output_type": "execute_result",
          "data": {
            "text/html": [
              "<div>\n",
              "<style scoped>\n",
              "    .dataframe tbody tr th:only-of-type {\n",
              "        vertical-align: middle;\n",
              "    }\n",
              "\n",
              "    .dataframe tbody tr th {\n",
              "        vertical-align: top;\n",
              "    }\n",
              "\n",
              "    .dataframe thead th {\n",
              "        text-align: right;\n",
              "    }\n",
              "</style>\n",
              "<table border=\"1\" class=\"dataframe\">\n",
              "  <thead>\n",
              "    <tr style=\"text-align: right;\">\n",
              "      <th></th>\n",
              "      <th>0</th>\n",
              "      <th>1</th>\n",
              "    </tr>\n",
              "  </thead>\n",
              "  <tbody>\n",
              "    <tr>\n",
              "      <th>Date received</th>\n",
              "      <td>05/10/2019</td>\n",
              "      <td>05/10/2019</td>\n",
              "    </tr>\n",
              "    <tr>\n",
              "      <th>Product</th>\n",
              "      <td>Checking or savings account</td>\n",
              "      <td>Checking or savings account</td>\n",
              "    </tr>\n",
              "    <tr>\n",
              "      <th>Sub-product</th>\n",
              "      <td>Checking account</td>\n",
              "      <td>Other banking product or service</td>\n",
              "    </tr>\n",
              "    <tr>\n",
              "      <th>Issue</th>\n",
              "      <td>Managing an account</td>\n",
              "      <td>Managing an account</td>\n",
              "    </tr>\n",
              "    <tr>\n",
              "      <th>Sub-issue</th>\n",
              "      <td>Problem using a debit or ATM card</td>\n",
              "      <td>Deposits and withdrawals</td>\n",
              "    </tr>\n",
              "    <tr>\n",
              "      <th>Consumer complaint narrative</th>\n",
              "      <td>NaN</td>\n",
              "      <td>NaN</td>\n",
              "    </tr>\n",
              "    <tr>\n",
              "      <th>Company public response</th>\n",
              "      <td>NaN</td>\n",
              "      <td>NaN</td>\n",
              "    </tr>\n",
              "    <tr>\n",
              "      <th>Company</th>\n",
              "      <td>NAVY FEDERAL CREDIT UNION</td>\n",
              "      <td>BOEING EMPLOYEES CREDIT UNION</td>\n",
              "    </tr>\n",
              "    <tr>\n",
              "      <th>State</th>\n",
              "      <td>FL</td>\n",
              "      <td>WA</td>\n",
              "    </tr>\n",
              "    <tr>\n",
              "      <th>ZIP code</th>\n",
              "      <td>328XX</td>\n",
              "      <td>98204</td>\n",
              "    </tr>\n",
              "    <tr>\n",
              "      <th>Tags</th>\n",
              "      <td>Older American</td>\n",
              "      <td>NaN</td>\n",
              "    </tr>\n",
              "    <tr>\n",
              "      <th>Consumer consent provided?</th>\n",
              "      <td>NaN</td>\n",
              "      <td>NaN</td>\n",
              "    </tr>\n",
              "    <tr>\n",
              "      <th>Submitted via</th>\n",
              "      <td>Web</td>\n",
              "      <td>Referral</td>\n",
              "    </tr>\n",
              "    <tr>\n",
              "      <th>Date sent to company</th>\n",
              "      <td>05/10/2019</td>\n",
              "      <td>05/10/2019</td>\n",
              "    </tr>\n",
              "    <tr>\n",
              "      <th>Company response to consumer</th>\n",
              "      <td>In progress</td>\n",
              "      <td>Closed with explanation</td>\n",
              "    </tr>\n",
              "    <tr>\n",
              "      <th>Timely response?</th>\n",
              "      <td>Yes</td>\n",
              "      <td>Yes</td>\n",
              "    </tr>\n",
              "    <tr>\n",
              "      <th>Consumer disputed?</th>\n",
              "      <td>NaN</td>\n",
              "      <td>NaN</td>\n",
              "    </tr>\n",
              "    <tr>\n",
              "      <th>Complaint ID</th>\n",
              "      <td>3238275</td>\n",
              "      <td>3238228</td>\n",
              "    </tr>\n",
              "  </tbody>\n",
              "</table>\n",
              "</div>"
            ],
            "text/plain": [
              "                                                              0                                 1\n",
              "Date received                                        05/10/2019                        05/10/2019\n",
              "Product                             Checking or savings account       Checking or savings account\n",
              "Sub-product                                    Checking account  Other banking product or service\n",
              "Issue                                       Managing an account               Managing an account\n",
              "Sub-issue                     Problem using a debit or ATM card          Deposits and withdrawals\n",
              "Consumer complaint narrative                                NaN                               NaN\n",
              "Company public response                                     NaN                               NaN\n",
              "Company                               NAVY FEDERAL CREDIT UNION     BOEING EMPLOYEES CREDIT UNION\n",
              "State                                                        FL                                WA\n",
              "ZIP code                                                  328XX                             98204\n",
              "Tags                                             Older American                               NaN\n",
              "Consumer consent provided?                                  NaN                               NaN\n",
              "Submitted via                                               Web                          Referral\n",
              "Date sent to company                                 05/10/2019                        05/10/2019\n",
              "Company response to consumer                        In progress           Closed with explanation\n",
              "Timely response?                                            Yes                               Yes\n",
              "Consumer disputed?                                          NaN                               NaN\n",
              "Complaint ID                                            3238275                           3238228"
            ]
          },
          "metadata": {
            "tags": []
          },
          "execution_count": 8
        }
      ]
    },
    {
      "cell_type": "markdown",
      "metadata": {
        "id": "MpHjFw2esWRd",
        "colab_type": "text"
      },
      "source": [
        "```\n",
        "\n",
        "\n",
        "```\n",
        "\n",
        "\n",
        "# QUESTION 1: \n",
        "\n",
        "\n",
        "---\n",
        "\n",
        "\n",
        "## Please identify the data columns from the following set that can benefit from classification?\n",
        "\n",
        "There are several columns that could be benefit from classification.  \n",
        "\n",
        "\n",
        "1.   **Product**/**Sub-product**\n",
        "2.   **Issue**/**Sub-issue**\n",
        "3.  **Consumer disputed?**\n",
        "\n",
        "\n"
      ]
    },
    {
      "cell_type": "markdown",
      "metadata": {
        "id": "ZoreJk893P5F",
        "colab_type": "text"
      },
      "source": [
        "\n",
        "\n",
        "```\n",
        "\n",
        "\n",
        "```\n",
        "\n",
        "\n",
        "# QUESTION 2: \n",
        "\n",
        "\n",
        "---\n",
        "\n",
        "\n",
        "## Choose one of the columns, identified in #1 and create a taxonomy for classified types.\n",
        "Let's create a taxonomy for the Product column"
      ]
    },
    {
      "cell_type": "code",
      "metadata": {
        "id": "TC4yDVal2tRP",
        "colab_type": "code",
        "colab": {
          "base_uri": "https://localhost:8080/",
          "height": 638
        },
        "outputId": "e1e4dbef-b2e0-40b2-dee2-9ce17edeccd6"
      },
      "source": [
        "#\n",
        "# clean up data to have just product, sub-product and consumer complaint narrative\t\n",
        "df_slim = df[['Product','Sub-product','Consumer complaint narrative']].copy()\n",
        "\n",
        "\n",
        "df_slim.groupby(['Product']).count()[['Consumer complaint narrative']]"
      ],
      "execution_count": 10,
      "outputs": [
        {
          "output_type": "execute_result",
          "data": {
            "text/html": [
              "<div>\n",
              "<style scoped>\n",
              "    .dataframe tbody tr th:only-of-type {\n",
              "        vertical-align: middle;\n",
              "    }\n",
              "\n",
              "    .dataframe tbody tr th {\n",
              "        vertical-align: top;\n",
              "    }\n",
              "\n",
              "    .dataframe thead th {\n",
              "        text-align: right;\n",
              "    }\n",
              "</style>\n",
              "<table border=\"1\" class=\"dataframe\">\n",
              "  <thead>\n",
              "    <tr style=\"text-align: right;\">\n",
              "      <th></th>\n",
              "      <th>Consumer complaint narrative</th>\n",
              "    </tr>\n",
              "    <tr>\n",
              "      <th>Product</th>\n",
              "      <th></th>\n",
              "    </tr>\n",
              "  </thead>\n",
              "  <tbody>\n",
              "    <tr>\n",
              "      <th>Bank account or service</th>\n",
              "      <td>14885</td>\n",
              "    </tr>\n",
              "    <tr>\n",
              "      <th>Checking or savings account</th>\n",
              "      <td>12881</td>\n",
              "    </tr>\n",
              "    <tr>\n",
              "      <th>Consumer Loan</th>\n",
              "      <td>9474</td>\n",
              "    </tr>\n",
              "    <tr>\n",
              "      <th>Credit card</th>\n",
              "      <td>18838</td>\n",
              "    </tr>\n",
              "    <tr>\n",
              "      <th>Credit card or prepaid card</th>\n",
              "      <td>21379</td>\n",
              "    </tr>\n",
              "    <tr>\n",
              "      <th>Credit reporting</th>\n",
              "      <td>31588</td>\n",
              "    </tr>\n",
              "    <tr>\n",
              "      <th>Credit reporting, credit repair services, or other personal consumer reports</th>\n",
              "      <td>92378</td>\n",
              "    </tr>\n",
              "    <tr>\n",
              "      <th>Debt collection</th>\n",
              "      <td>86710</td>\n",
              "    </tr>\n",
              "    <tr>\n",
              "      <th>Money transfer, virtual currency, or money service</th>\n",
              "      <td>5466</td>\n",
              "    </tr>\n",
              "    <tr>\n",
              "      <th>Money transfers</th>\n",
              "      <td>1497</td>\n",
              "    </tr>\n",
              "    <tr>\n",
              "      <th>Mortgage</th>\n",
              "      <td>52987</td>\n",
              "    </tr>\n",
              "    <tr>\n",
              "      <th>Other financial service</th>\n",
              "      <td>292</td>\n",
              "    </tr>\n",
              "    <tr>\n",
              "      <th>Payday loan</th>\n",
              "      <td>1747</td>\n",
              "    </tr>\n",
              "    <tr>\n",
              "      <th>Payday loan, title loan, or personal loan</th>\n",
              "      <td>4421</td>\n",
              "    </tr>\n",
              "    <tr>\n",
              "      <th>Prepaid card</th>\n",
              "      <td>1450</td>\n",
              "    </tr>\n",
              "    <tr>\n",
              "      <th>Student loan</th>\n",
              "      <td>21810</td>\n",
              "    </tr>\n",
              "    <tr>\n",
              "      <th>Vehicle loan or lease</th>\n",
              "      <td>5745</td>\n",
              "    </tr>\n",
              "    <tr>\n",
              "      <th>Virtual currency</th>\n",
              "      <td>16</td>\n",
              "    </tr>\n",
              "  </tbody>\n",
              "</table>\n",
              "</div>"
            ],
            "text/plain": [
              "                                                    Consumer complaint narrative\n",
              "Product                                                                         \n",
              "Bank account or service                                                    14885\n",
              "Checking or savings account                                                12881\n",
              "Consumer Loan                                                               9474\n",
              "Credit card                                                                18838\n",
              "Credit card or prepaid card                                                21379\n",
              "Credit reporting                                                           31588\n",
              "Credit reporting, credit repair services, or ot...                         92378\n",
              "Debt collection                                                            86710\n",
              "Money transfer, virtual currency, or money service                          5466\n",
              "Money transfers                                                             1497\n",
              "Mortgage                                                                   52987\n",
              "Other financial service                                                      292\n",
              "Payday loan                                                                 1747\n",
              "Payday loan, title loan, or personal loan                                   4421\n",
              "Prepaid card                                                                1450\n",
              "Student loan                                                               21810\n",
              "Vehicle loan or lease                                                       5745\n",
              "Virtual currency                                                              16"
            ]
          },
          "metadata": {
            "tags": []
          },
          "execution_count": 10
        }
      ]
    },
    {
      "cell_type": "markdown",
      "metadata": {
        "id": "Tr18L8SXoUqf",
        "colab_type": "text"
      },
      "source": [
        "There are several classes that it makes sense to merge.  For instance, 'Money transfer, virtual currency, or money service' and 'Money transfers'.  I make this simplification below. "
      ]
    },
    {
      "cell_type": "code",
      "metadata": {
        "id": "XZLk7JqUBVZ4",
        "colab_type": "code",
        "colab": {}
      },
      "source": [
        "#\n",
        "# clean up\n",
        "df_slim.replace({'Product': {'Credit reporting':'Credit reporting, credit repair services, or other personal consumer reports', \n",
        "                             'Credit card': 'Credit card or prepaid card',\n",
        "                             'Prepaid card': 'Credit card or prepaid card',\n",
        "                             'Payday loan': 'Payday loan, title loan, or personal loan',\n",
        "                             'Money transfers': 'Money transfer, virtual currency, or money service',\n",
        "                             'Virtual currency': 'Money transfer, virtual currency, or money service'}}, inplace=True)"
      ],
      "execution_count": 0,
      "outputs": []
    },
    {
      "cell_type": "markdown",
      "metadata": {
        "id": "iQmeKXiaHzRU",
        "colab_type": "text"
      },
      "source": [
        "## Our taxonomy will be these 12 classes.   "
      ]
    },
    {
      "cell_type": "code",
      "metadata": {
        "id": "46HSxJIM76NE",
        "colab_type": "code",
        "colab": {
          "base_uri": "https://localhost:8080/",
          "height": 452
        },
        "outputId": "a458b135-db2d-4fb2-8bed-b21e39d1a8b9"
      },
      "source": [
        "df_slim.groupby(['Product']).count()[['Consumer complaint narrative']]"
      ],
      "execution_count": 12,
      "outputs": [
        {
          "output_type": "execute_result",
          "data": {
            "text/html": [
              "<div>\n",
              "<style scoped>\n",
              "    .dataframe tbody tr th:only-of-type {\n",
              "        vertical-align: middle;\n",
              "    }\n",
              "\n",
              "    .dataframe tbody tr th {\n",
              "        vertical-align: top;\n",
              "    }\n",
              "\n",
              "    .dataframe thead th {\n",
              "        text-align: right;\n",
              "    }\n",
              "</style>\n",
              "<table border=\"1\" class=\"dataframe\">\n",
              "  <thead>\n",
              "    <tr style=\"text-align: right;\">\n",
              "      <th></th>\n",
              "      <th>Consumer complaint narrative</th>\n",
              "    </tr>\n",
              "    <tr>\n",
              "      <th>Product</th>\n",
              "      <th></th>\n",
              "    </tr>\n",
              "  </thead>\n",
              "  <tbody>\n",
              "    <tr>\n",
              "      <th>Bank account or service</th>\n",
              "      <td>14885</td>\n",
              "    </tr>\n",
              "    <tr>\n",
              "      <th>Checking or savings account</th>\n",
              "      <td>12881</td>\n",
              "    </tr>\n",
              "    <tr>\n",
              "      <th>Consumer Loan</th>\n",
              "      <td>9474</td>\n",
              "    </tr>\n",
              "    <tr>\n",
              "      <th>Credit card or prepaid card</th>\n",
              "      <td>41667</td>\n",
              "    </tr>\n",
              "    <tr>\n",
              "      <th>Credit reporting, credit repair services, or other personal consumer reports</th>\n",
              "      <td>123966</td>\n",
              "    </tr>\n",
              "    <tr>\n",
              "      <th>Debt collection</th>\n",
              "      <td>86710</td>\n",
              "    </tr>\n",
              "    <tr>\n",
              "      <th>Money transfer, virtual currency, or money service</th>\n",
              "      <td>6979</td>\n",
              "    </tr>\n",
              "    <tr>\n",
              "      <th>Mortgage</th>\n",
              "      <td>52987</td>\n",
              "    </tr>\n",
              "    <tr>\n",
              "      <th>Other financial service</th>\n",
              "      <td>292</td>\n",
              "    </tr>\n",
              "    <tr>\n",
              "      <th>Payday loan, title loan, or personal loan</th>\n",
              "      <td>6168</td>\n",
              "    </tr>\n",
              "    <tr>\n",
              "      <th>Student loan</th>\n",
              "      <td>21810</td>\n",
              "    </tr>\n",
              "    <tr>\n",
              "      <th>Vehicle loan or lease</th>\n",
              "      <td>5745</td>\n",
              "    </tr>\n",
              "  </tbody>\n",
              "</table>\n",
              "</div>"
            ],
            "text/plain": [
              "                                                    Consumer complaint narrative\n",
              "Product                                                                         \n",
              "Bank account or service                                                    14885\n",
              "Checking or savings account                                                12881\n",
              "Consumer Loan                                                               9474\n",
              "Credit card or prepaid card                                                41667\n",
              "Credit reporting, credit repair services, or ot...                        123966\n",
              "Debt collection                                                            86710\n",
              "Money transfer, virtual currency, or money service                          6979\n",
              "Mortgage                                                                   52987\n",
              "Other financial service                                                      292\n",
              "Payday loan, title loan, or personal loan                                   6168\n",
              "Student loan                                                               21810\n",
              "Vehicle loan or lease                                                       5745"
            ]
          },
          "metadata": {
            "tags": []
          },
          "execution_count": 12
        }
      ]
    },
    {
      "cell_type": "markdown",
      "metadata": {
        "id": "9Z8VgOfMILlD",
        "colab_type": "text"
      },
      "source": [
        "\n",
        "\n",
        "```\n",
        "\n",
        "\n",
        "```\n",
        "\n",
        "\n",
        "# QUESTION 3: \n",
        "\n",
        "\n",
        "---\n",
        "\n",
        "\n",
        "## Based on a created taxonomy, describe the algorithm for classification.\n",
        "We now have a multiclass classification problem.  Using the Consumer complaint narrative we can analyize the text to create features for a classifer.  There are several options for how to create these features.  I suggest trying term frequency inverse document frequency (TF-IDF) and a ensamble tree method like xgboost."
      ]
    },
    {
      "cell_type": "markdown",
      "metadata": {
        "id": "enEkUNIxNIwo",
        "colab_type": "text"
      },
      "source": [
        "\n",
        "\n",
        "```\n",
        "\n",
        "\n",
        "```\n",
        "\n",
        "\n",
        "# EXTRA CREDIT: \n",
        "\n",
        "\n",
        "---\n",
        "\n",
        "\n",
        "## Let's see if we can make it work?\n"
      ]
    },
    {
      "cell_type": "code",
      "metadata": {
        "id": "xQh_TXEvAdds",
        "colab_type": "code",
        "colab": {}
      },
      "source": [
        "# drop those with no narrative\n",
        "df_cleaned = df_slim.dropna()"
      ],
      "execution_count": 0,
      "outputs": []
    },
    {
      "cell_type": "code",
      "metadata": {
        "id": "GnmgYhzZP-Vq",
        "colab_type": "code",
        "colab": {}
      },
      "source": [
        "from sklearn import model_selection, preprocessing\n",
        "\n",
        "# label encode the target variable \n",
        "encoder = preprocessing.LabelEncoder()\n",
        "y       = encoder.fit_transform(df_cleaned['Product'])\n",
        "X       = df_cleaned['Consumer complaint narrative']\n",
        "\n",
        "#train test split\n",
        "X_train, X_test, y_train, y_test = model_selection.train_test_split(X, y, test_size=0.3, random_state = 42)"
      ],
      "execution_count": 0,
      "outputs": []
    },
    {
      "cell_type": "markdown",
      "metadata": {
        "id": "Ve3BLdPCN4_G",
        "colab_type": "text"
      },
      "source": [
        "### TF-IDF"
      ]
    },
    {
      "cell_type": "code",
      "metadata": {
        "id": "SlU5RVLXOJPc",
        "colab_type": "code",
        "colab": {}
      },
      "source": [
        "from sklearn.feature_extraction.text import TfidfVectorizer"
      ],
      "execution_count": 0,
      "outputs": []
    },
    {
      "cell_type": "code",
      "metadata": {
        "id": "Wnd3kR44QkfY",
        "colab_type": "code",
        "colab": {}
      },
      "source": [
        "tfidf = TfidfVectorizer(analyzer='word', ngram_range=(1, 2)\n",
        "                        , sublinear_tf=True, min_df=5\n",
        "                        , stop_words='english')\n",
        "\n",
        "X_train_tfidf =  tfidf.fit_transform(X_train)\n",
        "X_test_tfidf  =  tfidf.transform(X_test)"
      ],
      "execution_count": 0,
      "outputs": []
    },
    {
      "cell_type": "markdown",
      "metadata": {
        "id": "oFfWxhC7WqL_",
        "colab_type": "text"
      },
      "source": [
        "### XGBoost"
      ]
    },
    {
      "cell_type": "code",
      "metadata": {
        "id": "DY-iwvDkfliC",
        "colab_type": "code",
        "colab": {}
      },
      "source": [
        "import xgboost as xgb\n",
        "\n",
        "# use DMatrix for xgboost\n",
        "dtrain = xgb.DMatrix(X_train_tfidf, label=y_train)\n",
        "dtest = xgb.DMatrix(X_test_tfidf, label=y_test)"
      ],
      "execution_count": 0,
      "outputs": []
    },
    {
      "cell_type": "code",
      "metadata": {
        "id": "XGD01BZMWiJr",
        "colab_type": "code",
        "colab": {}
      },
      "source": [
        "param = {\n",
        "    'max_depth': 3,  # the maximum depth of each tree\n",
        "    'eta': 0.3,  # the training step for each iteration\n",
        "    'silent': 0,  # logging mode - quiet\n",
        "    'objective': 'multi:softprob',  # error evaluation for multiclass training\n",
        "    'num_class': 12}  # the number of classes that exist in this datset\n",
        "num_round = 5\n",
        "\n",
        "bst = xgb.train(param, dtrain, num_round)"
      ],
      "execution_count": 0,
      "outputs": []
    },
    {
      "cell_type": "code",
      "metadata": {
        "id": "77Ob7UVMOYxH",
        "colab_type": "code",
        "colab": {}
      },
      "source": [
        "preds      = bst.predict(dtest)\n",
        "best_preds = np.asarray([np.argmax(line) for line in preds]) #convert back to class number"
      ],
      "execution_count": 0,
      "outputs": []
    },
    {
      "cell_type": "markdown",
      "metadata": {
        "id": "hXKbZyDgYQ_i",
        "colab_type": "text"
      },
      "source": [
        "### Metrics"
      ]
    },
    {
      "cell_type": "code",
      "metadata": {
        "id": "tIldvy5M5eXC",
        "colab_type": "code",
        "colab": {
          "base_uri": "https://localhost:8080/",
          "height": 340
        },
        "outputId": "fa110c36-d28c-4bde-ec5e-136f6a611c20"
      },
      "source": [
        "from sklearn.metrics import confusion_matrix\n",
        "from sklearn import metrics\n",
        "\n",
        "tn = list(encoder.inverse_transform(range(12)))\n",
        "print(metrics.classification_report(y_test, best_preds, target_names=tn))"
      ],
      "execution_count": 46,
      "outputs": [
        {
          "output_type": "stream",
          "text": [
            "                                                                              precision    recall  f1-score   support\n",
            "\n",
            "                                                     Bank account or service       0.49      0.46      0.48      4420\n",
            "                                                 Checking or savings account       0.56      0.34      0.42      3941\n",
            "                                                               Consumer Loan       0.47      0.23      0.31      2806\n",
            "                                                 Credit card or prepaid card       0.62      0.61      0.62      6907\n",
            "Credit reporting, credit repair services, or other personal consumer reports       0.67      0.81      0.73     27726\n",
            "                                                             Debt collection       0.72      0.76      0.74     26060\n",
            "                          Money transfer, virtual currency, or money service       0.80      0.56      0.66      2133\n",
            "                                                                    Mortgage       0.89      0.83      0.86     15804\n",
            "                                                     Other financial service       0.33      0.01      0.03        76\n",
            "                                   Payday loan, title loan, or personal loan       0.50      0.11      0.18      1303\n",
            "                                                                Student loan       0.78      0.74      0.76      6526\n",
            "                                                       Vehicle loan or lease       0.48      0.23      0.31      1716\n",
            "\n",
            "                                                                    accuracy                           0.71     99418\n",
            "                                                                   macro avg       0.61      0.47      0.51     99418\n",
            "                                                                weighted avg       0.70      0.71      0.70     99418\n",
            "\n"
          ],
          "name": "stdout"
        }
      ]
    },
    {
      "cell_type": "markdown",
      "metadata": {
        "id": "8XhFJp8jZKV2",
        "colab_type": "text"
      },
      "source": [
        "Here you can see we have about a 70% accuracy.  Certainly more can be done to tune the model.  It would also be desireable to run a cross validate to test the stability and validity of the model.  "
      ]
    }
  ]
}